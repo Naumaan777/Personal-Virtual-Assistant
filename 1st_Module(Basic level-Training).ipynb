{
 "cells": [
  {
   "cell_type": "code",
   "execution_count": 1,
   "id": "78c6fc23",
   "metadata": {
    "pycharm": {
     "name": "#%%\n"
    }
   },
   "outputs": [
    {
     "name": "stdout",
     "output_type": "stream",
     "text": [
      "Enter the length of list: 4\n",
      "Enter the list elements: 1\n",
      "Enter the list elements: 2\n",
      "Enter the list elements: 3\n",
      "Enter the list elements: 4\n",
      "['1', '2', '3', '4']\n",
      "['4', '2', '3', '1']\n"
     ]
    }
   ],
   "source": [
    "l = []\n",
    "x = int(input(\"Enter the length of list: \"))\n",
    "for i in range(x):\n",
    "    a = input(\"Enter the list elements: \")\n",
    "    l.append(a)\n",
    "        \n",
    "print(l)\n",
    "p = len(l) - 1\n",
    "first = l[0]\n",
    "last = l[p]\n",
    "l[0] = last\n",
    "l[p] = first\n",
    "print(l)"
   ]
  },
  {
   "cell_type": "code",
   "execution_count": 2,
   "id": "feec3725",
   "metadata": {
    "pycharm": {
     "name": "#%%\n"
    }
   },
   "outputs": [
    {
     "name": "stdout",
     "output_type": "stream",
     "text": [
      "[1, 2, 3, 4, 5, 6]\n",
      "There are 6 elements in the list.\n"
     ]
    }
   ],
   "source": [
    "l1 = [1,2,3,4,5,6]\n",
    "c = 0\n",
    "for i in l1:\n",
    "    c += 1\n",
    "    \n",
    "print(l1)\n",
    "print(\"There are\",c,\"elements in the list.\")"
   ]
  },
  {
   "cell_type": "code",
   "execution_count": 3,
   "id": "af19a56b",
   "metadata": {
    "pycharm": {
     "name": "#%%\n"
    }
   },
   "outputs": [
    {
     "name": "stdout",
     "output_type": "stream",
     "text": [
      "Second highest number is : 90\n"
     ]
    }
   ],
   "source": [
    "list1 = [10,56,23,89,23,45,90,110,34,78]\n",
    "mx = max(list1[0], list1[1])\n",
    "secondmax = min(list1[0], list1[1])\n",
    "n = len(list1)\n",
    "for i in range(2,n):\n",
    "    if list1[i] > mx:\n",
    "        secondmax = mx\n",
    "        mx = list1[i]\n",
    "    elif list1[i] > secondmax and \\\n",
    "        mx != list1[i]:\n",
    "        secondmax = list1[i]\n",
    "    elif mx == secondmax and \\\n",
    "        secondmax != list1[i]:\n",
    "          secondmax = list1[i]\n",
    " \n",
    "print(\"Second highest number is : \"+str(secondmax))\n",
    "    "
   ]
  },
  {
   "cell_type": "code",
   "execution_count": 4,
   "id": "ecfa440c",
   "metadata": {
    "pycharm": {
     "name": "#%%\n"
    }
   },
   "outputs": [
    {
     "name": "stdout",
     "output_type": "stream",
     "text": [
      "90\n"
     ]
    }
   ],
   "source": [
    "a = [10,56,23,89,23,45,90,110,34,78]\n",
    "l = sorted(a)\n",
    "print(l[-2])"
   ]
  },
  {
   "cell_type": "code",
   "execution_count": 5,
   "id": "75817919",
   "metadata": {
    "pycharm": {
     "name": "#%%\n"
    }
   },
   "outputs": [
    {
     "name": "stdout",
     "output_type": "stream",
     "text": [
      "Enter Temperature in F: 35\n",
      "The temperature in C is 1.6666666666666667\n"
     ]
    }
   ],
   "source": [
    "F = int(input(\"Enter Temperature in F: \"))\n",
    "C = (F - 32) * 5/9\n",
    "print(\"The temperature in C is\",C)"
   ]
  },
  {
   "cell_type": "code",
   "execution_count": 6,
   "id": "e7bf83b7",
   "metadata": {
    "pycharm": {
     "name": "#%%\n"
    }
   },
   "outputs": [
    {
     "name": "stdout",
     "output_type": "stream",
     "text": [
      "Enter an int: 56\n",
      "Enter a float: 45.3\n",
      "Enter \n",
      "1 for addition \n",
      "2 for subtraction \n",
      "3 for multiplication \n",
      "4 for division \n",
      "5 for floor division \n",
      "6 for modulo division\n",
      " ==> 6\n",
      "Modulo Division 10.700000000000003\n"
     ]
    }
   ],
   "source": [
    "a = int(input(\"Enter an int: \"))\n",
    "b = float(input(\"Enter a float: \"))\n",
    "print(\"Enter \\n1 for addition \\n2 for subtraction \\n3 for multiplication \\n4 for division \\n5 for floor division \\n6 for modulo division\")\n",
    "i = int(input(\" ==> \"))\n",
    "\n",
    "if i == 1:\n",
    "    print(\"Addition\",a+b)\n",
    "elif i == 2:\n",
    "    print(\"Subtraction\",a-b)\n",
    "elif i == 3:\n",
    "    print(\"Multiplication\",a*b)\n",
    "elif i == 4:\n",
    "    print(\"Division\",a/b)\n",
    "elif i == 5:\n",
    "    print(\"Floor Division\",a//b)\n",
    "elif i == 6:\n",
    "    print(\"Modulo Division\",a%b)\n"
   ]
  },
  {
   "cell_type": "code",
   "execution_count": null,
   "id": "7402a5fe",
   "metadata": {
    "pycharm": {
     "name": "#%%\n"
    }
   },
   "outputs": [],
   "source": []
  }
 ],
 "metadata": {
  "kernelspec": {
   "display_name": "Python 3 (ipykernel)",
   "language": "python",
   "name": "python3"
  },
  "language_info": {
   "codemirror_mode": {
    "name": "ipython",
    "version": 3
   },
   "file_extension": ".py",
   "mimetype": "text/x-python",
   "name": "python",
   "nbconvert_exporter": "python",
   "pygments_lexer": "ipython3",
   "version": "3.9.13"
  }
 },
 "nbformat": 4,
 "nbformat_minor": 5
}